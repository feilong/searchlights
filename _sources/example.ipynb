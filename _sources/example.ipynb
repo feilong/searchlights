{
 "cells": [
  {
   "cell_type": "markdown",
   "id": "05e71bc1",
   "metadata": {},
   "source": [
    "# Visualizing searchlights\n",
    "\n",
    "This example shows how to get the searchlights using `get_searchlights` and visualize them on cortical surface using [`brainplotlib`](https://feilong.github.io/brainplotlib/)'s `brain_plot`.\n",
    "These visualized searchlights are the face regions used in our recent preprint ({cite:t}`10.1101/2021.11.17.469009`).\n",
    "In this example, each faces region is defined as a searchlight with a 10 mm radius.\n",
    "We render vertices in face regions in one color and other cortical vertices in another color.\n",
    "\n",
    "Note that searchlights are defined as disks on a cortical surface (the \"midthickness\" surface in this case).\n",
    "When searchlights are visualized on an inflated surface, such as in the example below, the shape may look somewhat different due to inflation.\n",
    "\n",
    "![](face_ROIs.png)"
   ]
  },
  {
   "cell_type": "code",
   "execution_count": 1,
   "id": "52eca71b",
   "metadata": {},
   "outputs": [],
   "source": [
    "import numpy as np\n",
    "from searchlights import get_searchlights\n",
    "from brainplotlib import brain_plot\n",
    "\n",
    "lh_indices = np.array([3026, 9254, 9243, 1267, 2900, 3007, 3660, 7945, 4585, 3523])\n",
    "rh_indices = np.array([7832,  142, 2519, 9123, 8793, 9336, 1467, 1478, 7001, 5321])\n",
    "areas = ['OFA', 'aFFA', 'pFFA', 'ATL', 'pSTS', 'aSTS', 'sIFG', 'mIFG', 'iIFG', 'precuneus']\n"
   ]
  },
  {
   "cell_type": "markdown",
   "id": "d5d8271e",
   "metadata": {},
   "source": [
    "```{margin}\n",
    "This part set the value of any vertices in a face area to 1, and others to 0.\n",
    "```"
   ]
  },
  {
   "cell_type": "code",
   "execution_count": 2,
   "id": "6ee91ed4",
   "metadata": {},
   "outputs": [],
   "source": [
    "values = []\n",
    "for lr, center_indices in zip('lr', [lh_indices, rh_indices]):\n",
    "    nv = {'l': 9372, 'r': 9370}[lr]\n",
    "    v = np.zeros((nv, ))\n",
    "    sls = get_searchlights(lr, 10, 'fsaverage')\n",
    "    for center in center_indices:\n",
    "        sl = sls[center]\n",
    "        v[sl] = 1\n",
    "    values.append(v)"
   ]
  },
  {
   "cell_type": "code",
   "execution_count": 3,
   "id": "ed26b12c",
   "metadata": {},
   "outputs": [],
   "source": [
    "img = brain_plot(values, vmax=1, vmin=-1, cmap='coolwarm')\n",
    "\n",
    "from PIL import Image\n",
    "im = Image.fromarray(\n",
    "    np.round(img * 255).astype(np.uint8))\n",
    "im.save('face_ROIs.png')"
   ]
  },
  {
   "cell_type": "markdown",
   "id": "90ca1e59",
   "metadata": {},
   "source": [
    "## References\n",
    "```{bibliography}\n",
    ":filter: docname in docnames\n",
    ":style: unsrt\n",
    "```"
   ]
  }
 ],
 "metadata": {
  "jupytext": {
   "cell_metadata_filter": "-all",
   "formats": "md:myst",
   "text_representation": {
    "extension": ".md",
    "format_name": "myst",
    "format_version": 0.13,
    "jupytext_version": "1.11.5"
   }
  },
  "kernelspec": {
   "display_name": "Python 3",
   "language": "python",
   "name": "python3"
  },
  "language_info": {
   "codemirror_mode": {
    "name": "ipython",
    "version": 3
   },
   "file_extension": ".py",
   "mimetype": "text/x-python",
   "name": "python",
   "nbconvert_exporter": "python",
   "pygments_lexer": "ipython3",
   "version": "3.9.2"
  },
  "source_map": [
   14,
   28,
   37,
   41,
   52,
   59
  ]
 },
 "nbformat": 4,
 "nbformat_minor": 5
}