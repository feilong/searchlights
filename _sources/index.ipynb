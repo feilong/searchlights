{
 "cells": [
  {
   "cell_type": "markdown",
   "id": "01cd7700",
   "metadata": {},
   "source": [
    "# Welcome to searchlights\n",
    "\n",
    "Searchlight analysis {cite:p}`10.1073/pnas.0600244103,10.1016/j.neuroimage.2010.04.270,10.1016/j.neuroimage.2010.07.035` is one of the most popular methods in neuroimaging data analysis.\n",
    "It has been widely used in multivariate pattern analysis (MVPA) {cite:p}`10.1146/annurev-neuro-062012-170325`, including searchlight-based hyperalignment algorithms {cite:p}`10.1093/cercor/bhw068,10.1371/journal.pcbi.1006120,10.1016/j.neuroimage.2018.08.029`.\n",
    "Essentially, searchlight analysis loops through all brain regions (usually defined as spheres in volume and disks on surface) like a searchlight.\n",
    "It is often used to find brain regions containing certain information (e.g., regions with highest decoding accuracy).\n",
    "\n",
    "`searchlights` is a lightweight Python package that provides precomputed searchlights for surface-based analysis of fMRI data.\n",
    "It supports multiple standard surfaces provided by FreeSurfer (e.g., `fsaverage`, `fsaverage5`) and different spatial resolutions (e.g., `icoorder5`, `icoorder3`).\n",
    "It only depends on [`NumPy`](https://numpy.org/).\n",
    "\n",
    "## Installation\n",
    "\n",
    "`searchlights` can be easily installed with pip\n",
    "```bash\n",
    "python -m pip install searchlights\n",
    "```\n",
    "\n",
    "## Example\n",
    "\n",
    "The surface-based fMRI data we usually use (e.g., {cite:t}`10.1016/j.neuroimage.2018.08.029`) are in `fsaverage` space, downsampled to a lower resolution (`icoorder5`, approximately 3 mm vertex spacing).\n",
    "The surface has 9372 vertices for the left hemisphere, and 9370 vertices for the right hemisphere.\n",
    "The code below shows how to get the searchlights for the right hemisphere with a 20 mm radius."
   ]
  },
  {
   "cell_type": "code",
   "execution_count": 1,
   "id": "34750ce9",
   "metadata": {},
   "outputs": [],
   "source": [
    "import numpy as np\n",
    "from searchlights import get_searchlights\n",
    "sls = get_searchlights('l', 20, 'fsaverage')"
   ]
  },
  {
   "cell_type": "markdown",
   "id": "78696a90",
   "metadata": {},
   "source": [
    "---\n",
    "\n",
    "There are 9372 searchlights, one for each vertex as the center."
   ]
  },
  {
   "cell_type": "code",
   "execution_count": 2,
   "id": "3d03d2f4",
   "metadata": {},
   "outputs": [
    {
     "name": "stdout",
     "output_type": "stream",
     "text": [
      "9372\n"
     ]
    }
   ],
   "source": [
    "print(len(sls))"
   ]
  },
  {
   "cell_type": "markdown",
   "id": "51618288",
   "metadata": {},
   "source": [
    "---\n",
    "\n",
    "Each entry in `sls` is a NumPy array comprising the indices of vertices in the searchlight.\n",
    "In this case the indices ranging from 0 to 9371 (0-based indexing)."
   ]
  },
  {
   "cell_type": "code",
   "execution_count": 3,
   "id": "fb3fe85f",
   "metadata": {},
   "outputs": [
    {
     "name": "stdout",
     "output_type": "stream",
     "text": [
      "0 9371\n"
     ]
    }
   ],
   "source": [
    "cat = np.concatenate(sls)\n",
    "print(cat.min(), cat.max())"
   ]
  },
  {
   "cell_type": "markdown",
   "id": "513faba2",
   "metadata": {},
   "source": [
    "---\n",
    "\n",
    "If you have a data matrix `ds` that is in the same space and has the same resolution as the searchlights, you can easily get the data in a searchlight using\n",
    "```python\n",
    "sl = sls[0]  # the first searchlight\n",
    "sub_ds = ds[:, sl]  # data in the first searchlight\n",
    "```\n",
    "\n",
    "---\n",
    "\n",
    "````{admonition} References\n",
    "<!-- :class: full-width -->\n",
    "\n",
    "```{bibliography}\n",
    ":filter: docname in docnames\n",
    ":style: unsrt\n",
    "```\n",
    "````"
   ]
  }
 ],
 "metadata": {
  "jupytext": {
   "cell_metadata_filter": "-all",
   "formats": "md:myst",
   "text_representation": {
    "extension": ".md",
    "format_name": "myst",
    "format_version": 0.13,
    "jupytext_version": "1.11.5"
   }
  },
  "kernelspec": {
   "display_name": "Python 3",
   "language": "python",
   "name": "python3"
  },
  "language_info": {
   "codemirror_mode": {
    "name": "ipython",
    "version": 3
   },
   "file_extension": ".py",
   "mimetype": "text/x-python",
   "name": "python",
   "nbconvert_exporter": "python",
   "pygments_lexer": "ipython3",
   "version": "3.9.2"
  },
  "source_map": [
   14,
   40,
   44,
   49,
   51,
   57,
   60
  ]
 },
 "nbformat": 4,
 "nbformat_minor": 5
}